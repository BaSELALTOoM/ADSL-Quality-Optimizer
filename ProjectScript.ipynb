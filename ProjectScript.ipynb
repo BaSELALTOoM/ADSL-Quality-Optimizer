{
 "cells": [
  {
   "cell_type": "code",
   "execution_count": 1,
   "metadata": {},
   "outputs": [],
   "source": [
    "from pyspark.ml.feature import RFormula\n",
    "from pyspark.ml.feature import VectorAssembler\n",
    "from pyspark.mllib.tree import DecisionTree, DecisionTreeModel\n",
    "from pyspark.mllib.regression import LabeledPoint"
   ]
  },
  {
   "cell_type": "code",
   "execution_count": 2,
   "metadata": {},
   "outputs": [],
   "source": [
    "from pyspark.sql.functions import date_format\n",
    "sqlc = SQLContext(sc)\n",
    "callsDf = sqlc.read.load('../../test/calls_11_2020.csv',format=\"csv\", sep=\",\", inferSchema=\"true\", header=\"true\")\n",
    "bandDf  = sqlc.read.load('../../test/Bandwidth_traffic_11.csv',format=\"csv\", sep=\",\", inferSchema=\"true\", header=\"true\")\n"
   ]
  },
  {
   "cell_type": "code",
   "execution_count": 3,
   "metadata": {},
   "outputs": [],
   "source": [
    "callsDf.registerTempTable(\"callsData\")\n",
    "bandDf.registerTempTable(\"bandData\")"
   ]
  },
  {
   "cell_type": "code",
   "execution_count": 4,
   "metadata": {},
   "outputs": [],
   "source": [
    "callsDf = sqlc.sql(\"select CUSTOMER_ID,CITY_ID,PBX_ID,LAST_INTERIM_USAGE,LAST_INTERIM_TIME,DAY_HOUR,WEEK_DAY,MONTH_DAY,date_trunc('Minute', CAST(UNIX_TIMESTAMP(UPDATE_DATE, 'dd-MMM-yy HH:mm:ss') AS TIMESTAMP)) as date from callsData\")\n",
    "bandDf = sqlc.sql(\"select date_trunc('Minute', CAST(UNIX_TIMESTAMP(`Date Time`, 'MM/d/yyyy h:mm:ss a') AS TIMESTAMP) )as date,`Traffic Out (volume)`,`Traffic Out (volume)(RAW)`,`Traffic Out (speed)`,`Traffic Out (speed)(RAW)` from bandData\")\n"
   ]
  },
  {
   "cell_type": "code",
   "execution_count": 5,
   "metadata": {},
   "outputs": [],
   "source": [
    "callsDf.registerTempTable(\"calls\")\n",
    "bandDf.registerTempTable(\"band\")"
   ]
  },
  {
   "cell_type": "code",
   "execution_count": 6,
   "metadata": {},
   "outputs": [],
   "source": [
    "callsBandDf = sqlc.sql(\"select LAST_INTERIM_USAGE as label, band.date,cast(substring(customer_id,5) as INT) as CUSTOMER_ID,CITY_ID,PBX_ID,LAST_INTERIM_TIME,DAY_HOUR,dayofweek(band.date) as WEEK_DAY,MONTH_DAY,`Traffic Out (volume)(RAW)` as traffic_out_volume,`Traffic Out (speed)(RAW)` as traffic_out_speed from band join calls on band.date = calls.date\")"
   ]
  },
  {
   "cell_type": "code",
   "execution_count": 151,
   "metadata": {},
   "outputs": [],
   "source": [
    "#callsBandDf.createOrReplaceTempView(\"callsBand\")"
   ]
  },
  {
   "cell_type": "code",
   "execution_count": 152,
   "metadata": {},
   "outputs": [],
   "source": [
    "#sqlc.cacheTable(\"callsBand\")"
   ]
  },
  {
   "cell_type": "code",
   "execution_count": 7,
   "metadata": {},
   "outputs": [],
   "source": [
    "#callsBandDf.printSchema()"
   ]
  },
  {
   "cell_type": "code",
   "execution_count": 8,
   "metadata": {},
   "outputs": [],
   "source": [
    "#sqlc.sql(\"select * from callsBand\").show(1)"
   ]
  },
  {
   "cell_type": "code",
   "execution_count": 138,
   "metadata": {},
   "outputs": [],
   "source": [
    "#formula = RFormula(\n",
    "#    formula=\"LAST_INTERIM_USAGE ~ CUSTOMER_ID + CITY_ID + PBX_ID + LAST_INTERIM_TIME + DAY_HOUR + MONTH_DAY + traffic_out_volume +traffic_out_speed\",\n",
    "#    featuresCol=\"features\",\n",
    "#    labelCol=\"label\")"
   ]
  },
  {
   "cell_type": "code",
   "execution_count": 139,
   "metadata": {},
   "outputs": [],
   "source": [
    "#output = formula.fit(callsBandDf).transform(callsBandDf)\n"
   ]
  },
  {
   "cell_type": "code",
   "execution_count": 140,
   "metadata": {},
   "outputs": [],
   "source": [
    "#output.select(\"features\", \"label\").show(10,False)"
   ]
  },
  {
   "cell_type": "code",
   "execution_count": 141,
   "metadata": {},
   "outputs": [],
   "source": [
    "##assembler = VectorAssembler(inputCols=[\"CUSTOMER_ID\" , \"CITY_ID\" , \"PBX_ID\" , \"LAST_INTERIM_TIME\" , \"DAY_HOUR\" ,\"WEEK_DAY\" ,\"MONTH_DAY\", \"traffic_out_volume\", \"traffic_out_speed\"],outputCol='features')\n"
   ]
  },
  {
   "cell_type": "code",
   "execution_count": 148,
   "metadata": {},
   "outputs": [],
   "source": [
    "\n",
    "##data = assembler.setParams(handleInvalid=\"skip\").transform(callsBandDf).selectExpr (\"features\",\"label\")\n",
    "##data = assembler.setParams(handleInvalid=\"skip\").transform(callsBandDf)"
   ]
  },
  {
   "cell_type": "code",
   "execution_count": 7,
   "metadata": {},
   "outputs": [],
   "source": [
    "#data.printSchema()"
   ]
  },
  {
   "cell_type": "code",
   "execution_count": 9,
   "metadata": {
    "scrolled": true
   },
   "outputs": [],
   "source": [
    "parsedData = callsBandDf.rdd.map(lambda row: LabeledPoint(row[0],[row[2:]]))"
   ]
  },
  {
   "cell_type": "code",
   "execution_count": 168,
   "metadata": {},
   "outputs": [
    {
     "data": {
      "text/plain": [
       "[LabeledPoint(2318308.0, [213397.0,4.0,927.0,1638.0,12.0,1.0,1.0,26739559143.0,446477861.7966])]"
      ]
     },
     "execution_count": 168,
     "metadata": {},
     "output_type": "execute_result"
    }
   ],
   "source": [
    "parsedData.take(1)"
   ]
  },
  {
   "cell_type": "code",
   "execution_count": 10,
   "metadata": {},
   "outputs": [],
   "source": [
    "(trainingData, testData) = parsedData.randomSplit([0.7, 0.3])"
   ]
  },
  {
   "cell_type": "code",
   "execution_count": 11,
   "metadata": {},
   "outputs": [],
   "source": [
    "model = DecisionTree.trainRegressor(trainingData, categoricalFeaturesInfo={},\n",
    "                                    impurity='variance', maxDepth=5, maxBins=32)"
   ]
  },
  {
   "cell_type": "code",
   "execution_count": 13,
   "metadata": {},
   "outputs": [],
   "source": [
    "predictions = model.predict(testData.map(lambda x: x.features))\n"
   ]
  },
  {
   "cell_type": "code",
   "execution_count": 14,
   "metadata": {},
   "outputs": [],
   "source": [
    "labelsAndPredictions = testData.map(lambda lp: lp.label).zip(predictions)\n"
   ]
  },
  {
   "cell_type": "code",
   "execution_count": null,
   "metadata": {},
   "outputs": [],
   "source": [
    "testMSE = labelsAndPredictions.map(lambda lp: (lp[0] - lp[1]) * (lp[0] - lp[1])).sum() /\\\n",
    "    float(testData.count())"
   ]
  },
  {
   "cell_type": "code",
   "execution_count": null,
   "metadata": {},
   "outputs": [],
   "source": [
    "print('Test Mean Squared Error = ' + str(testMSE))\n",
    "print('Learned regression tree model:')\n",
    "print(model.toDebugString())"
   ]
  }
 ],
 "metadata": {
  "kernelspec": {
   "display_name": "Python 3",
   "language": "python",
   "name": "python3"
  },
  "language_info": {
   "codemirror_mode": {
    "name": "ipython",
    "version": 3
   },
   "file_extension": ".py",
   "mimetype": "text/x-python",
   "name": "python",
   "nbconvert_exporter": "python",
   "pygments_lexer": "ipython3",
   "version": "3.9.0"
  }
 },
 "nbformat": 4,
 "nbformat_minor": 4
}
